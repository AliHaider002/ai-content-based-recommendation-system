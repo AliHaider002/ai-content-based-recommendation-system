{
 "cells": [
  {
   "cell_type": "code",
   "execution_count": 1,
   "id": "b1afc370-b388-4fc0-a400-9406f0685991",
   "metadata": {},
   "outputs": [],
   "source": [
    "import ast\n",
    "import pickle\n",
    "import numpy as np\n",
    "import pandas as pd\n",
    "from nltk.stem.porter import PorterStemmer\n",
    "from sklearn.feature_extraction.text import CountVectorizer\n",
    "from sklearn.metrics.pairwise import cosine_similarity"
   ]
  },
  {
   "cell_type": "code",
   "execution_count": 2,
   "id": "9b3f0213-af68-4388-8084-9d1191e5a64e",
   "metadata": {},
   "outputs": [],
   "source": [
    "def convert_txt_string(obj):\n",
    "    data = []\n",
    "    for i in ast.literal_eval(obj):\n",
    "        data.append(i[\"name\"])\n",
    "    return data"
   ]
  },
  {
   "cell_type": "code",
   "execution_count": 3,
   "id": "104d177e-438d-4606-b2db-b65e1a803c0a",
   "metadata": {},
   "outputs": [],
   "source": [
    "def getCast(obj):\n",
    "    data = []\n",
    "    counter = 0\n",
    "    for i in ast.literal_eval(obj):\n",
    "        if counter != 3:\n",
    "            data.append(i[\"name\"])\n",
    "            counter += 1\n",
    "        else:\n",
    "            break\n",
    "    return data"
   ]
  },
  {
   "cell_type": "code",
   "execution_count": 4,
   "id": "58adbf38-13ed-4cf9-8f0b-47bc8d3b1379",
   "metadata": {},
   "outputs": [],
   "source": [
    "def getDirector(obj):\n",
    "    data = []\n",
    "    for i in ast.literal_eval(obj):\n",
    "        if i[\"job\"] == \"Director\":\n",
    "            data.append(i[\"name\"])\n",
    "    return data"
   ]
  },
  {
   "cell_type": "code",
   "execution_count": 5,
   "id": "4b1fe6de-f601-4f97-a693-5dba64a03551",
   "metadata": {},
   "outputs": [],
   "source": [
    "def stem(text):\n",
    "    ps = PorterStemmer()\n",
    "    y = []\n",
    "    for i in text.split():\n",
    "        y.append(ps.stem(i))\n",
    "    return \" \".join(y)"
   ]
  },
  {
   "cell_type": "code",
   "execution_count": 27,
   "id": "ad14cc54-eb43-4b87-88af-9a71f63b1023",
   "metadata": {},
   "outputs": [],
   "source": [
    "def recommend(movie):\n",
    "    movie_index = df[df[\"title\"] == movie.lower()].index[0]\n",
    "    distances = similarity[movie_index]\n",
    "    movie_list = sorted(list(enumerate(distances)), reverse=True, key=lambda x:x[1])[1:15]\n",
    "    data = []\n",
    "    for i in movie_list:\n",
    "        dict = {\n",
    "            \"id\" : df.iloc[i[0]].movie_id,\n",
    "            \"title\" : df.iloc[i[0]].title.title()\n",
    "        }\n",
    "        data.append(dict)\n",
    "    return data"
   ]
  },
  {
   "cell_type": "code",
   "execution_count": 7,
   "id": "dbbe5954-cb48-40f3-aeb3-0bae593bcc66",
   "metadata": {},
   "outputs": [],
   "source": [
    "def wrangle(set1, set2):\n",
    "    credits = pd.read_csv(set1)\n",
    "    movies = pd.read_csv(set2)\n",
    "    df = movies.merge(credits, left_on=\"title\",right_on=\"title\")\n",
    "    df.drop(columns=[\"id\", \"budget\", \"homepage\", \"original_language\", \"original_title\",\"popularity\", \"production_companies\", \"production_countries\", \"release_date\", \"revenue\", \"runtime\", \"spoken_languages\", \"status\", \"tagline\", \"vote_average\", \"vote_count\"], inplace=True)\n",
    "\n",
    "    df.dropna(inplace=True)\n",
    "    \n",
    "    df[\"genres\"] = df[\"genres\"].apply(convert_txt_string)\n",
    "    df[\"genres\"] = df[\"genres\"].apply(lambda x: [i.replace(\" \", \"_\")  for i in x ])\n",
    "    \n",
    "    df[\"keywords\"] = df[\"keywords\"].apply(convert_txt_string)\n",
    "    df[\"keywords\"] = df[\"keywords\"].apply(lambda x: [i.replace(\" \", \"_\")  for i in x ])\n",
    "    \n",
    "    df[\"cast\"] = df[\"cast\"].apply(getCast)\n",
    "    df[\"cast\"] = df[\"cast\"].apply(lambda x: [i.replace(\" \", \"_\")  for i in x ])\n",
    "    \n",
    "    df[\"crew\"] = df[\"crew\"].apply(getDirector)\n",
    "    df[\"crew\"] = df[\"crew\"].apply(lambda x: [i.replace(\" \", \"_\")  for i in x ])\n",
    "    \n",
    "    df[\"overview\"] = df[\"overview\"].apply(lambda x: x.split())\n",
    "\n",
    "    df[\"tags\"] = df[\"overview\"] + df[\"genres\"] + df[\"keywords\"] + df[\"cast\"] + df[\"crew\"]\n",
    "\n",
    "    new_df = df[[\"movie_id\", \"title\", \"tags\"]]\n",
    "\n",
    "    new_df[\"title\"] = new_df[\"title\"].apply(lambda x: x.lower()) \n",
    "    new_df[\"tags\"] = new_df[\"tags\"].apply(lambda x: \" \".join(x)) \n",
    "    new_df[\"tags\"] = new_df[\"tags\"].apply(stem) \n",
    "\n",
    "    return new_df"
   ]
  },
  {
   "cell_type": "code",
   "execution_count": 8,
   "id": "418086b4-fb55-43ba-bd6c-b985a9bba25a",
   "metadata": {},
   "outputs": [
    {
     "name": "stderr",
     "output_type": "stream",
     "text": [
      "C:\\Users\\Ali Haider\\AppData\\Local\\Temp\\ipykernel_10732\\103145902.py:27: SettingWithCopyWarning: \n",
      "A value is trying to be set on a copy of a slice from a DataFrame.\n",
      "Try using .loc[row_indexer,col_indexer] = value instead\n",
      "\n",
      "See the caveats in the documentation: https://pandas.pydata.org/pandas-docs/stable/user_guide/indexing.html#returning-a-view-versus-a-copy\n",
      "  new_df[\"title\"] = new_df[\"title\"].apply(lambda x: x.lower())\n",
      "C:\\Users\\Ali Haider\\AppData\\Local\\Temp\\ipykernel_10732\\103145902.py:28: SettingWithCopyWarning: \n",
      "A value is trying to be set on a copy of a slice from a DataFrame.\n",
      "Try using .loc[row_indexer,col_indexer] = value instead\n",
      "\n",
      "See the caveats in the documentation: https://pandas.pydata.org/pandas-docs/stable/user_guide/indexing.html#returning-a-view-versus-a-copy\n",
      "  new_df[\"tags\"] = new_df[\"tags\"].apply(lambda x: \" \".join(x))\n",
      "C:\\Users\\Ali Haider\\AppData\\Local\\Temp\\ipykernel_10732\\103145902.py:29: SettingWithCopyWarning: \n",
      "A value is trying to be set on a copy of a slice from a DataFrame.\n",
      "Try using .loc[row_indexer,col_indexer] = value instead\n",
      "\n",
      "See the caveats in the documentation: https://pandas.pydata.org/pandas-docs/stable/user_guide/indexing.html#returning-a-view-versus-a-copy\n",
      "  new_df[\"tags\"] = new_df[\"tags\"].apply(stem)\n"
     ]
    },
    {
     "data": {
      "text/html": [
       "<div>\n",
       "<style scoped>\n",
       "    .dataframe tbody tr th:only-of-type {\n",
       "        vertical-align: middle;\n",
       "    }\n",
       "\n",
       "    .dataframe tbody tr th {\n",
       "        vertical-align: top;\n",
       "    }\n",
       "\n",
       "    .dataframe thead th {\n",
       "        text-align: right;\n",
       "    }\n",
       "</style>\n",
       "<table border=\"1\" class=\"dataframe\">\n",
       "  <thead>\n",
       "    <tr style=\"text-align: right;\">\n",
       "      <th></th>\n",
       "      <th>movie_id</th>\n",
       "      <th>title</th>\n",
       "      <th>tags</th>\n",
       "    </tr>\n",
       "  </thead>\n",
       "  <tbody>\n",
       "    <tr>\n",
       "      <th>0</th>\n",
       "      <td>19995</td>\n",
       "      <td>avatar</td>\n",
       "      <td>in the 22nd century, a parapleg marin is dispa...</td>\n",
       "    </tr>\n",
       "    <tr>\n",
       "      <th>1</th>\n",
       "      <td>285</td>\n",
       "      <td>pirates of the caribbean: at world's end</td>\n",
       "      <td>captain barbossa, long believ to be dead, ha c...</td>\n",
       "    </tr>\n",
       "    <tr>\n",
       "      <th>2</th>\n",
       "      <td>206647</td>\n",
       "      <td>spectre</td>\n",
       "      <td>a cryptic messag from bond’ past send him on a...</td>\n",
       "    </tr>\n",
       "    <tr>\n",
       "      <th>3</th>\n",
       "      <td>49026</td>\n",
       "      <td>the dark knight rises</td>\n",
       "      <td>follow the death of district attorney harvey d...</td>\n",
       "    </tr>\n",
       "    <tr>\n",
       "      <th>4</th>\n",
       "      <td>49529</td>\n",
       "      <td>john carter</td>\n",
       "      <td>john carter is a war-weary, former militari ca...</td>\n",
       "    </tr>\n",
       "  </tbody>\n",
       "</table>\n",
       "</div>"
      ],
      "text/plain": [
       "   movie_id                                     title  \\\n",
       "0     19995                                    avatar   \n",
       "1       285  pirates of the caribbean: at world's end   \n",
       "2    206647                                   spectre   \n",
       "3     49026                     the dark knight rises   \n",
       "4     49529                               john carter   \n",
       "\n",
       "                                                tags  \n",
       "0  in the 22nd century, a parapleg marin is dispa...  \n",
       "1  captain barbossa, long believ to be dead, ha c...  \n",
       "2  a cryptic messag from bond’ past send him on a...  \n",
       "3  follow the death of district attorney harvey d...  \n",
       "4  john carter is a war-weary, former militari ca...  "
      ]
     },
     "execution_count": 8,
     "metadata": {},
     "output_type": "execute_result"
    }
   ],
   "source": [
    "df = wrangle(set1=\"tmdb_5000_credits.csv\", set2=\"tmdb_5000_movies.csv\")\n",
    "df.head()"
   ]
  },
  {
   "cell_type": "code",
   "execution_count": 9,
   "id": "56fc0f63-5a15-435b-8ea4-6b0d913ec712",
   "metadata": {},
   "outputs": [],
   "source": [
    "cv = CountVectorizer(max_features=5000, stop_words=\"english\")"
   ]
  },
  {
   "cell_type": "code",
   "execution_count": 10,
   "id": "a8b255b1-6a3b-4520-93a1-55428cd71dfe",
   "metadata": {},
   "outputs": [],
   "source": [
    "vectors = cv.fit_transform(df[\"tags\"]).toarray()"
   ]
  },
  {
   "cell_type": "code",
   "execution_count": 11,
   "id": "b23663bc-29b0-46d7-9c66-7afb9f41d54f",
   "metadata": {},
   "outputs": [
    {
     "data": {
      "text/plain": [
       "(4806, 5000)"
      ]
     },
     "execution_count": 11,
     "metadata": {},
     "output_type": "execute_result"
    }
   ],
   "source": [
    "vectors.shape"
   ]
  },
  {
   "cell_type": "code",
   "execution_count": 12,
   "id": "3966cd20-a221-434c-b071-3fa77cc9bc06",
   "metadata": {},
   "outputs": [],
   "source": [
    "similarity = cosine_similarity(vectors)"
   ]
  },
  {
   "cell_type": "code",
   "execution_count": 13,
   "id": "0f04e3e7-5dce-4c80-9141-150861eea98d",
   "metadata": {},
   "outputs": [],
   "source": [
    "with open(\"movies_similarity.pkl\", \"wb\") as f:\n",
    "    pickle.dump(similarity, f)"
   ]
  },
  {
   "cell_type": "code",
   "execution_count": 28,
   "id": "49bc0c17-2be7-42fa-adb6-cc918ad51b57",
   "metadata": {},
   "outputs": [
    {
     "data": {
      "text/plain": [
       "[{'id': 102899, 'title': 'Ant-Man'},\n",
       " {'id': 10138, 'title': 'Iron Man 2'},\n",
       " {'id': 37931, 'title': 'Macgruber'},\n",
       " {'id': 11090, 'title': 'The Animal'},\n",
       " {'id': 1930, 'title': 'The Amazing Spider-Man'},\n",
       " {'id': 10202, 'title': 'Bedtime Stories'},\n",
       " {'id': 38055, 'title': 'Megamind'},\n",
       " {'id': 250349, 'title': 'Barbecue'},\n",
       " {'id': 27936, 'title': 'Micmacs'},\n",
       " {'id': 98369, 'title': 'Blue Like Jazz'},\n",
       " {'id': 16441, 'title': 'The Beastmaster'},\n",
       " {'id': 76170, 'title': 'The Wolverine'},\n",
       " {'id': 152747, 'title': 'All Is Lost'},\n",
       " {'id': 361505, 'title': 'Me You And Five Bucks'}]"
      ]
     },
     "execution_count": 28,
     "metadata": {},
     "output_type": "execute_result"
    }
   ],
   "source": [
    "recommend(\"deadpool\")"
   ]
  },
  {
   "cell_type": "code",
   "execution_count": null,
   "id": "c06bc720-f1b5-4bd2-9f62-12bca10cb54a",
   "metadata": {},
   "outputs": [],
   "source": []
  }
 ],
 "metadata": {
  "kernelspec": {
   "display_name": "Python 3 (ipykernel)",
   "language": "python",
   "name": "python3"
  },
  "language_info": {
   "codemirror_mode": {
    "name": "ipython",
    "version": 3
   },
   "file_extension": ".py",
   "mimetype": "text/x-python",
   "name": "python",
   "nbconvert_exporter": "python",
   "pygments_lexer": "ipython3",
   "version": "3.11.7"
  }
 },
 "nbformat": 4,
 "nbformat_minor": 5
}
